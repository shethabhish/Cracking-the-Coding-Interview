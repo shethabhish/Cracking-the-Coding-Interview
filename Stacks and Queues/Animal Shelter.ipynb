{
 "cells": [
  {
   "cell_type": "code",
   "execution_count": 1,
   "metadata": {},
   "outputs": [],
   "source": [
    "class Animals:\n",
    "    def __init__(self):\n",
    "        self.dogs,self.cats = [],[]\n",
    "    def enqueue(self,animal):\n",
    "        if animal.__class__ == Cat: \n",
    "            self.cats.append(animal)\n",
    "        else: \n",
    "            self.dogs.append(animal)\n",
    "    def dequeueAny(self):\n",
    "        if len(self.cats):\n",
    "            return self.dequeueCat()\n",
    "        return sef.dequeueDog()\n",
    "    def dequeueCat(self):\n",
    "        if len(self.cats) == 0: return None\n",
    "        cat = self.cats[0]\n",
    "        self.cats = self.cats[1:]\n",
    "        return cat\n",
    "    def dequeueDog(self):\n",
    "        if len(self.dogs) == 0:\n",
    "            return None\n",
    "        dog = self.dogs[0]\n",
    "        self.dogs = self.dogs[1:]\n",
    "        return dog"
   ]
  },
  {
   "cell_type": "code",
   "execution_count": 2,
   "metadata": {},
   "outputs": [],
   "source": [
    "class Animal:\n",
    "    def __init__(self,name):\n",
    "        self.name = name\n",
    "    def __str__(self):\n",
    "        return self.name\n",
    "class Cat(Animal) : pass\n",
    "class Dog(Animal) : pass"
   ]
  },
  {
   "cell_type": "code",
   "execution_count": 3,
   "metadata": {},
   "outputs": [],
   "source": [
    "shelter = Animals()\n",
    "shelter.enqueue(Cat(\"Hanzack\"))\n",
    "shelter.enqueue(Dog(\"Pluto\"))\n",
    "shelter.enqueue(Cat(\"Garfield\"))\n",
    "shelter.enqueue(Cat(\"Tony\"))\n",
    "shelter.enqueue(Dog(\"Clifford\"))\n",
    "shelter.enqueue(Dog(\"Blue\"))"
   ]
  },
  {
   "cell_type": "code",
   "execution_count": 4,
   "metadata": {},
   "outputs": [
    {
     "data": {
      "text/plain": [
       "'Hanzack'"
      ]
     },
     "execution_count": 4,
     "metadata": {},
     "output_type": "execute_result"
    }
   ],
   "source": [
    "str(shelter.dequeueAny())"
   ]
  },
  {
   "cell_type": "code",
   "execution_count": 5,
   "metadata": {},
   "outputs": [
    {
     "data": {
      "text/plain": [
       "'Pluto'"
      ]
     },
     "execution_count": 5,
     "metadata": {},
     "output_type": "execute_result"
    }
   ],
   "source": [
    "str(shelter.dequeueDog())"
   ]
  },
  {
   "cell_type": "code",
   "execution_count": 6,
   "metadata": {},
   "outputs": [
    {
     "data": {
      "text/plain": [
       "'Garfield'"
      ]
     },
     "execution_count": 6,
     "metadata": {},
     "output_type": "execute_result"
    }
   ],
   "source": [
    "str(shelter.dequeueCat())"
   ]
  }
 ],
 "metadata": {
  "kernelspec": {
   "display_name": "Python 3",
   "language": "python",
   "name": "python3"
  },
  "language_info": {
   "codemirror_mode": {
    "name": "ipython",
    "version": 3
   },
   "file_extension": ".py",
   "mimetype": "text/x-python",
   "name": "python",
   "nbconvert_exporter": "python",
   "pygments_lexer": "ipython3",
   "version": "3.7.6"
  }
 },
 "nbformat": 4,
 "nbformat_minor": 4
}
