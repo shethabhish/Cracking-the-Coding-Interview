{
 "cells": [
  {
   "cell_type": "code",
   "execution_count": 1,
   "metadata": {},
   "outputs": [],
   "source": [
    "from collections import deque\n",
    "class Stack:\n",
    "    def __init__(self):\n",
    "        self.items = []\n",
    "        self.min = deque()\n",
    "    def push(self,item):\n",
    "        self.items.append(item)\n",
    "        if len(self.min) == 0:\n",
    "            self.min.appendleft(item)\n",
    "        if len(self.min) != 0 and item < self.min[0]:\n",
    "            self.min.appendleft(item)\n",
    "        else:\n",
    "            self.min.append(item)\n",
    "        \n",
    "    def pop(self):\n",
    "        it = self.items.pop()\n",
    "        self.min.remove(it)\n",
    "        return it\n",
    "    def minimum(self):\n",
    "        return self.min[0]"
   ]
  },
  {
   "cell_type": "code",
   "execution_count": 2,
   "metadata": {},
   "outputs": [
    {
     "data": {
      "text/plain": [
       "1"
      ]
     },
     "execution_count": 2,
     "metadata": {},
     "output_type": "execute_result"
    }
   ],
   "source": [
    "st = Stack()\n",
    "st.push(1)\n",
    "st.push(2)\n",
    "st.push(-1)\n",
    "st.pop()\n",
    "st.minimum()"
   ]
  }
 ],
 "metadata": {
  "kernelspec": {
   "display_name": "Python 3",
   "language": "python",
   "name": "python3"
  },
  "language_info": {
   "codemirror_mode": {
    "name": "ipython",
    "version": 3
   },
   "file_extension": ".py",
   "mimetype": "text/x-python",
   "name": "python",
   "nbconvert_exporter": "python",
   "pygments_lexer": "ipython3",
   "version": "3.7.6"
  }
 },
 "nbformat": 4,
 "nbformat_minor": 4
}
