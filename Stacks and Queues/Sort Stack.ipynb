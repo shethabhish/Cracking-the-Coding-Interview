{
 "cells": [
  {
   "cell_type": "code",
   "execution_count": 4,
   "metadata": {},
   "outputs": [],
   "source": [
    "class Stack:\n",
    "    def __init__(self):\n",
    "         self.top = None\n",
    "  \n",
    "    def __str__(self):\n",
    "        return str(self.top)\n",
    "  \n",
    "    def push(self, item):\n",
    "        self.top = current(item, self.top)\n",
    "  \n",
    "    def pop(self):\n",
    "        if not self.top:\n",
    "            return None\n",
    "        item = self.top\n",
    "        self.top = self.top.next\n",
    "        return item.data\n",
    "class current():\n",
    "    def __init__(self, data=None, next=None):\n",
    "        self.data, self.next = data, next\n",
    "  \n",
    "    def __str__(self):\n",
    "        return str(self and self.data) + ',' + str(self and self.next)\n"
   ]
  },
  {
   "cell_type": "code",
   "execution_count": 28,
   "metadata": {},
   "outputs": [],
   "source": [
    "def sort_stack(stack):\n",
    "    temp = Stack()\n",
    "    prev = stack.pop()\n",
    "    current = stack.pop()\n",
    "    while current:\n",
    "        if current < prev:\n",
    "            temp.push(temp)\n",
    "        else:\n",
    "            temp.push(prev)\n",
    "            prev = current\n",
    "        current = stack.pop()\n",
    "    is_sorted = True\n",
    "    current = temp.pop()\n",
    "    while current:\n",
    "        if current > prev:\n",
    "            is_sorted = False\n",
    "            stack.push(current)\n",
    "        else:\n",
    "            stack.push(prev)\n",
    "            prev = current\n",
    "        current = temp.pop()\n",
    "    stack.push(prev)\n",
    "    if is_sorted:\n",
    "        return stack\n",
    "    return sort_stack(stack)"
   ]
  }
 ],
 "metadata": {
  "kernelspec": {
   "display_name": "Python 3",
   "language": "python",
   "name": "python3"
  },
  "language_info": {
   "codemirror_mode": {
    "name": "ipython",
    "version": 3
   },
   "file_extension": ".py",
   "mimetype": "text/x-python",
   "name": "python",
   "nbconvert_exporter": "python",
   "pygments_lexer": "ipython3",
   "version": "3.7.6"
  }
 },
 "nbformat": 4,
 "nbformat_minor": 4
}
