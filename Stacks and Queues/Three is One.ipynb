{
 "cells": [
  {
   "cell_type": "code",
   "execution_count": 1,
   "metadata": {},
   "outputs": [],
   "source": [
    "class ThreeStack():\n",
    "    def __init__(self):\n",
    "        self.array = [None,None,None]\n",
    "        self.current = [0,1,2]\n",
    "    def push(self,item,stacknumber):\n",
    "        if not stacknumber in [0,1,2]:\n",
    "            print(\"Invalid Stack Number\")\n",
    "        while len(self.array) <= self.current[stacknumber]:\n",
    "            self.array += [None]*len(self.array)\n",
    "        self.array[self.current[stacknumber]] = item\n",
    "        self.current[stacknumber] += 3\n",
    "    def pop(self,stacknumber):\n",
    "        if not stacknumber in [0,1,2]:\n",
    "            print(\"Invalid Stack Number\")\n",
    "        if self.current[stack_number] > 3:\n",
    "            self.current[stack_number] -= 3\n",
    "        item = self.array[self.current[stack_number]]\n",
    "        self.array[self.current[stack_number]] = None\n",
    "        return item"
   ]
  }
 ],
 "metadata": {
  "kernelspec": {
   "display_name": "Python 3",
   "language": "python",
   "name": "python3"
  },
  "language_info": {
   "codemirror_mode": {
    "name": "ipython",
    "version": 3
   },
   "file_extension": ".py",
   "mimetype": "text/x-python",
   "name": "python",
   "nbconvert_exporter": "python",
   "pygments_lexer": "ipython3",
   "version": "3.7.6"
  }
 },
 "nbformat": 4,
 "nbformat_minor": 4
}
