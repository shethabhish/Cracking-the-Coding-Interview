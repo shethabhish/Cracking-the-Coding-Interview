{
 "cells": [
  {
   "cell_type": "code",
   "execution_count": 1,
   "metadata": {},
   "outputs": [],
   "source": [
    "class SetofStacks:\n",
    "    def __init__(self):\n",
    "        self.stacks = []\n",
    "        self.currentstack = []\n",
    "    def push(self,val):\n",
    "        if len(self.currentstack) > 5:\n",
    "            self.newstack()\n",
    "        self.currentstack.append(val)\n",
    "    def pop(self):\n",
    "        if len(self.currentstack) == 0:\n",
    "            self.backtrack()\n",
    "        return self.currentstack.pop()\n",
    "    def newstack(self):\n",
    "        self.stacks.append(self.currentstack)\n",
    "        self.currentstack = []\n",
    "    def backtrack(self):\n",
    "        self.currentstack = self.stacks.pop()\n",
    "    def popat(self,index):\n",
    "        return self.stacks[index].pop()"
   ]
  },
  {
   "cell_type": "code",
   "execution_count": 2,
   "metadata": {},
   "outputs": [],
   "source": [
    "sets = SetofStacks()"
   ]
  },
  {
   "cell_type": "code",
   "execution_count": 3,
   "metadata": {},
   "outputs": [
    {
     "data": {
      "text/plain": [
       "4"
      ]
     },
     "execution_count": 3,
     "metadata": {},
     "output_type": "execute_result"
    }
   ],
   "source": [
    "sets.push(1)\n",
    "sets.push(2)\n",
    "sets.push(3)\n",
    "sets.push(4)\n",
    "sets.push(5)\n",
    "sets.push(6)\n",
    "sets.push(7)\n",
    "sets.push(8)\n",
    "sets.push(9)\n",
    "sets.pop()\n",
    "sets.pop()\n",
    "sets.pop()\n",
    "sets.pop()\n",
    "sets.pop()\n",
    "sets.pop()"
   ]
  }
 ],
 "metadata": {
  "kernelspec": {
   "display_name": "Python 3",
   "language": "python",
   "name": "python3"
  },
  "language_info": {
   "codemirror_mode": {
    "name": "ipython",
    "version": 3
   },
   "file_extension": ".py",
   "mimetype": "text/x-python",
   "name": "python",
   "nbconvert_exporter": "python",
   "pygments_lexer": "ipython3",
   "version": "3.7.6"
  }
 },
 "nbformat": 4,
 "nbformat_minor": 4
}
