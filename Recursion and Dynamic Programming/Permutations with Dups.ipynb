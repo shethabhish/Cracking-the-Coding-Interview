{
 "cells": [
  {
   "cell_type": "code",
   "execution_count": 1,
   "metadata": {},
   "outputs": [],
   "source": [
    "def permutations(word):\n",
    "    return partial(\"\",sorted(word))\n",
    "def partial(part,letters):\n",
    "    if len(letters) == 0:\n",
    "        return [part]\n",
    "    permutation = []\n",
    "    prev = None\n",
    "    for i,letter in enumerate(letters):\n",
    "        if letter == prev:\n",
    "            continue\n",
    "        nextpart = part + letter\n",
    "        nextletters = letters[:i]+letters[i+1:]\n",
    "        permutation += partial(nextpart,nextletters)\n",
    "        prev = letter\n",
    "    return permutation"
   ]
  },
  {
   "cell_type": "code",
   "execution_count": 2,
   "metadata": {},
   "outputs": [
    {
     "data": {
      "text/plain": [
       "['aabc',\n",
       " 'aacb',\n",
       " 'abac',\n",
       " 'abca',\n",
       " 'acab',\n",
       " 'acba',\n",
       " 'baac',\n",
       " 'baca',\n",
       " 'bcaa',\n",
       " 'caab',\n",
       " 'caba',\n",
       " 'cbaa']"
      ]
     },
     "execution_count": 2,
     "metadata": {},
     "output_type": "execute_result"
    }
   ],
   "source": [
    "permutations(\"abca\")"
   ]
  }
 ],
 "metadata": {
  "kernelspec": {
   "display_name": "Python 3",
   "language": "python",
   "name": "python3"
  },
  "language_info": {
   "codemirror_mode": {
    "name": "ipython",
    "version": 3
   },
   "file_extension": ".py",
   "mimetype": "text/x-python",
   "name": "python",
   "nbconvert_exporter": "python",
   "pygments_lexer": "ipython3",
   "version": "3.7.6"
  }
 },
 "nbformat": 4,
 "nbformat_minor": 4
}
