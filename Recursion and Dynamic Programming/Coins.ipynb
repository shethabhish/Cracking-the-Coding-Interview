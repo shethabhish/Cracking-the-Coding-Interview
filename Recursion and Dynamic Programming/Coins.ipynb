{
 "cells": [
  {
   "cell_type": "code",
   "execution_count": 1,
   "metadata": {},
   "outputs": [],
   "source": [
    "def coins(n):\n",
    "    s = [1,5,10,25]\n",
    "    return calc(s,len(s),n)\n",
    "def calc(s,m,n):\n",
    "    table = [[0 for i in range(m)] for j in range(n+1)]\n",
    "    for i in range(m):\n",
    "        table[0][i] = 1\n",
    "    for i in range(1,n+1):\n",
    "        for j in range(m):\n",
    "            x = table[i-s[j]][j] if i-s[j] >= 0 else 0\n",
    "            y = table[i][j-1] if j >= 1 else 0\n",
    "            table[i][j] = x+y\n",
    "    return table[n][m-1]"
   ]
  },
  {
   "cell_type": "code",
   "execution_count": 2,
   "metadata": {},
   "outputs": [
    {
     "data": {
      "text/plain": [
       "4"
      ]
     },
     "execution_count": 2,
     "metadata": {},
     "output_type": "execute_result"
    }
   ],
   "source": [
    "coins(10)"
   ]
  },
  {
   "cell_type": "code",
   "execution_count": 3,
   "metadata": {},
   "outputs": [],
   "source": [
    "def coins(cents):\n",
    "    count = 0\n",
    "    for i in range(cents,-1,-25):\n",
    "        count += cnt(i)\n",
    "    return count\n",
    "def cnt(cents):\n",
    "    count = 0\n",
    "    for i in range(cents,-1,-10):\n",
    "        count += (i/5) + 1\n",
    "    return count"
   ]
  },
  {
   "cell_type": "code",
   "execution_count": 4,
   "metadata": {},
   "outputs": [
    {
     "data": {
      "text/plain": [
       "1.2"
      ]
     },
     "execution_count": 4,
     "metadata": {},
     "output_type": "execute_result"
    }
   ],
   "source": [
    "coins(1)"
   ]
  }
 ],
 "metadata": {
  "kernelspec": {
   "display_name": "Python 3",
   "language": "python",
   "name": "python3"
  },
  "language_info": {
   "codemirror_mode": {
    "name": "ipython",
    "version": 3
   },
   "file_extension": ".py",
   "mimetype": "text/x-python",
   "name": "python",
   "nbconvert_exporter": "python",
   "pygments_lexer": "ipython3",
   "version": "3.7.6"
  }
 },
 "nbformat": 4,
 "nbformat_minor": 4
}
