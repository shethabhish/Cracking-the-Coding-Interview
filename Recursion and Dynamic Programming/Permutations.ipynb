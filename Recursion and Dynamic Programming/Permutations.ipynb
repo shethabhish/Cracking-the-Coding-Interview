{
 "cells": [
  {
   "cell_type": "code",
   "execution_count": 1,
   "metadata": {},
   "outputs": [],
   "source": [
    "from collections import deque\n",
    "def permutations(word):\n",
    "    result = []\n",
    "    permutation = deque()\n",
    "    permutation.append([])\n",
    "    for ch in word:\n",
    "        for _ in range(len(permutation)):\n",
    "            oldpermu = permutation.popleft()\n",
    "            for j in range(len(oldpermu)+1):\n",
    "                newpermu = list(oldpermu)\n",
    "                newpermu.insert(j,ch)\n",
    "                if len(newpermu) == len(word):\n",
    "                    result.append(newpermu)\n",
    "                else:\n",
    "                    permutation.append(newpermu)\n",
    "    return result"
   ]
  },
  {
   "cell_type": "code",
   "execution_count": 2,
   "metadata": {},
   "outputs": [
    {
     "data": {
      "text/plain": [
       "[['c', 'b', 'a'],\n",
       " ['b', 'c', 'a'],\n",
       " ['b', 'a', 'c'],\n",
       " ['c', 'a', 'b'],\n",
       " ['a', 'c', 'b'],\n",
       " ['a', 'b', 'c']]"
      ]
     },
     "execution_count": 2,
     "metadata": {},
     "output_type": "execute_result"
    }
   ],
   "source": [
    "permutations(\"abc\")"
   ]
  }
 ],
 "metadata": {
  "kernelspec": {
   "display_name": "Python 3",
   "language": "python",
   "name": "python3"
  },
  "language_info": {
   "codemirror_mode": {
    "name": "ipython",
    "version": 3
   },
   "file_extension": ".py",
   "mimetype": "text/x-python",
   "name": "python",
   "nbconvert_exporter": "python",
   "pygments_lexer": "ipython3",
   "version": "3.7.6"
  }
 },
 "nbformat": 4,
 "nbformat_minor": 4
}
