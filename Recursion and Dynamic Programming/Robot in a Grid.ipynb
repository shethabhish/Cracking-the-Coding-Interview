{
 "cells": [
  {
   "cell_type": "code",
   "execution_count": 1,
   "metadata": {},
   "outputs": [],
   "source": [
    "def getmaze(maze):\n",
    "    if maze is None or len(maze) == 0:\n",
    "        return None\n",
    "    path = []\n",
    "    if paths(maze,len(maze)-1,len(maze[0])-1,path):\n",
    "        return path\n",
    "    return None\n",
    "def paths(maze,row,col,path):\n",
    "    if col < 0 or row < 0 or not maze[row][col]:\n",
    "        return False\n",
    "    atOrigin = (row == 0) and (col == 0)\n",
    "    if atOrigin or paths(maze,row,col-1,path) or paths(maze,row-1,col,path):\n",
    "        point = (row,col)\n",
    "        path.append(point)\n",
    "        return True\n",
    "    return False"
   ]
  },
  {
   "cell_type": "code",
   "execution_count": 2,
   "metadata": {},
   "outputs": [
    {
     "data": {
      "text/plain": [
       "[(0, 0), (0, 1), (1, 1)]"
      ]
     },
     "execution_count": 2,
     "metadata": {},
     "output_type": "execute_result"
    }
   ],
   "source": [
    "getmaze([[True,True],[False,True]])"
   ]
  }
 ],
 "metadata": {
  "kernelspec": {
   "display_name": "Python 3",
   "language": "python",
   "name": "python3"
  },
  "language_info": {
   "codemirror_mode": {
    "name": "ipython",
    "version": 3
   },
   "file_extension": ".py",
   "mimetype": "text/x-python",
   "name": "python",
   "nbconvert_exporter": "python",
   "pygments_lexer": "ipython3",
   "version": "3.7.6"
  }
 },
 "nbformat": 4,
 "nbformat_minor": 4
}
