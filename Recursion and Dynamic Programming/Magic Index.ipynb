{
 "cells": [
  {
   "cell_type": "code",
   "execution_count": 1,
   "metadata": {},
   "outputs": [],
   "source": [
    "def magic_index(arr):\n",
    "    return index(arr,0,len(arr)-1)\n",
    "def index(arr,start,end):\n",
    "    mid = start + (end-start)//2\n",
    "    if arr[mid] == mid:\n",
    "        return mid\n",
    "    elif arr[mid] < mid:\n",
    "        return index(arr,mid+1,end)\n",
    "    else:\n",
    "        return index(arr,start,mid-1)"
   ]
  },
  {
   "cell_type": "code",
   "execution_count": 2,
   "metadata": {},
   "outputs": [
    {
     "data": {
      "text/plain": [
       "5"
      ]
     },
     "execution_count": 2,
     "metadata": {},
     "output_type": "execute_result"
    }
   ],
   "source": [
    "magic_index([-14,-12,0,1,2,5,9,10,23,25])"
   ]
  }
 ],
 "metadata": {
  "kernelspec": {
   "display_name": "Python 3",
   "language": "python",
   "name": "python3"
  },
  "language_info": {
   "codemirror_mode": {
    "name": "ipython",
    "version": 3
   },
   "file_extension": ".py",
   "mimetype": "text/x-python",
   "name": "python",
   "nbconvert_exporter": "python",
   "pygments_lexer": "ipython3",
   "version": "3.7.6"
  }
 },
 "nbformat": 4,
 "nbformat_minor": 4
}
