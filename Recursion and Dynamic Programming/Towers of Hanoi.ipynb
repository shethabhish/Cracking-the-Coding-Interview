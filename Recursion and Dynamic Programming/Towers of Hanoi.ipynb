{
 "cells": [
  {
   "cell_type": "code",
   "execution_count": 1,
   "metadata": {},
   "outputs": [],
   "source": [
    "def towershanoi(n,source,destination,auxilary):\n",
    "    if n == 1:\n",
    "        print(\"Moved disk 1 from\",source,\"to destination\",destination)\n",
    "        return\n",
    "    towershanoi(n-1,source,auxilary,destination)\n",
    "    print(\"Moved disk\",n, \"from\",source,\"to destination\",destination)\n",
    "    towershanoi(n-1,auxilary,destination,source)"
   ]
  },
  {
   "cell_type": "code",
   "execution_count": 2,
   "metadata": {},
   "outputs": [
    {
     "name": "stdout",
     "output_type": "stream",
     "text": [
      "Moved disk 1 from A to destination C\n",
      "Moved disk 2 from A to destination B\n",
      "Moved disk 1 from C to destination B\n",
      "Moved disk 3 from A to destination C\n",
      "Moved disk 1 from B to destination A\n",
      "Moved disk 2 from B to destination C\n",
      "Moved disk 1 from A to destination C\n",
      "Moved disk 4 from A to destination B\n",
      "Moved disk 1 from C to destination B\n",
      "Moved disk 2 from C to destination A\n",
      "Moved disk 1 from B to destination A\n",
      "Moved disk 3 from C to destination B\n",
      "Moved disk 1 from A to destination C\n",
      "Moved disk 2 from A to destination B\n",
      "Moved disk 1 from C to destination B\n"
     ]
    }
   ],
   "source": [
    "towershanoi(4,'A','B','C')"
   ]
  }
 ],
 "metadata": {
  "kernelspec": {
   "display_name": "Python 3",
   "language": "python",
   "name": "python3"
  },
  "language_info": {
   "codemirror_mode": {
    "name": "ipython",
    "version": 3
   },
   "file_extension": ".py",
   "mimetype": "text/x-python",
   "name": "python",
   "nbconvert_exporter": "python",
   "pygments_lexer": "ipython3",
   "version": "3.7.6"
  }
 },
 "nbformat": 4,
 "nbformat_minor": 4
}
