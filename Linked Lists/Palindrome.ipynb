{
 "cells": [
  {
   "cell_type": "code",
   "execution_count": 1,
   "metadata": {},
   "outputs": [],
   "source": [
    "class Node:\n",
    "    def __init__(self,val,next=None):\n",
    "        self.val = val\n",
    "        self.next = next\n",
    "def printl(head):\n",
    "    while head:\n",
    "        print(head.val, end=\" \")\n",
    "        head = head.next"
   ]
  },
  {
   "cell_type": "code",
   "execution_count": 2,
   "metadata": {},
   "outputs": [],
   "source": [
    "def palindrome(head):\n",
    "    slow,fast = head,head\n",
    "    while fast and fast.next:\n",
    "        slow = slow.next\n",
    "        fast = fast.next.next\n",
    "    secondhalf = reverse(slow)\n",
    "    copy = secondhalf\n",
    "    while head and secondhalf:\n",
    "        if head.val != secondhalf.val:\n",
    "            break\n",
    "        head = head.next\n",
    "        secondhalf = secondhalf.next\n",
    "    reverse(copy)\n",
    "    if head is None and secondhalf is None:\n",
    "        return True\n",
    "    return False"
   ]
  },
  {
   "cell_type": "code",
   "execution_count": 3,
   "metadata": {},
   "outputs": [],
   "source": [
    "def reverse(head):\n",
    "    prev,current = None,head\n",
    "    while current:\n",
    "        next = current.next\n",
    "        current.next = prev\n",
    "        prev = current\n",
    "        current = next\n",
    "    return prev"
   ]
  },
  {
   "cell_type": "code",
   "execution_count": 4,
   "metadata": {},
   "outputs": [
    {
     "data": {
      "text/plain": [
       "True"
      ]
     },
     "execution_count": 4,
     "metadata": {},
     "output_type": "execute_result"
    }
   ],
   "source": [
    "head1 = Node(2)\n",
    "head1.next = Node(4)\n",
    "head1.next.next = Node(6)\n",
    "head1.next.next.next = Node(4)\n",
    "head1.next.next.next.next = Node(2)\n",
    "palindrome(head1)"
   ]
  }
 ],
 "metadata": {
  "kernelspec": {
   "display_name": "Python 3",
   "language": "python",
   "name": "python3"
  },
  "language_info": {
   "codemirror_mode": {
    "name": "ipython",
    "version": 3
   },
   "file_extension": ".py",
   "mimetype": "text/x-python",
   "name": "python",
   "nbconvert_exporter": "python",
   "pygments_lexer": "ipython3",
   "version": "3.7.6"
  }
 },
 "nbformat": 4,
 "nbformat_minor": 4
}
