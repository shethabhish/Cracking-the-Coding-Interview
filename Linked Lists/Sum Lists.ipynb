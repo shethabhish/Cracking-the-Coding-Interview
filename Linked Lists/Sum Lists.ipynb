{
 "cells": [
  {
   "cell_type": "code",
   "execution_count": 1,
   "metadata": {},
   "outputs": [],
   "source": [
    "class Node:\n",
    "    def __init__(self,val,next=None):\n",
    "        self.val = val\n",
    "        self.next = next"
   ]
  },
  {
   "cell_type": "code",
   "execution_count": 2,
   "metadata": {},
   "outputs": [],
   "source": [
    "from collections import deque\n",
    "def sumlists(one,two):\n",
    "    sum1 = deque()\n",
    "    sum2 = deque()\n",
    "    while one:\n",
    "        sum1.appendleft(one.val)\n",
    "        one = one.next\n",
    "    while two:\n",
    "        sum2.appendleft(two.val)\n",
    "        two = two.next\n",
    "    temp1,temp2 = \"\",\"\"\n",
    "    for i in sum1:\n",
    "        temp1 += str(i)\n",
    "    for i in sum2:\n",
    "        temp2 += str(i)\n",
    "    temp = str(int(temp1)+int(temp2))\n",
    "    final =Node(int(temp[-1]))\n",
    "    prev= final\n",
    "    for i in range(len(temp)-2,-1,-1):\n",
    "        final.next = Node(int(temp[i]))\n",
    "        final = final.next\n",
    "    return printl(prev)"
   ]
  },
  {
   "cell_type": "code",
   "execution_count": 3,
   "metadata": {},
   "outputs": [],
   "source": [
    "one = Node(7)\n",
    "one.next = Node(1)\n",
    "one.next.next = Node(6)\n",
    "two = Node(5)\n",
    "two.next = Node(9)\n",
    "two.next.next = Node(2)\n",
    "def printl(head):\n",
    "    while head:\n",
    "        print(head.val, end=\" \")\n",
    "        head = head.next"
   ]
  },
  {
   "cell_type": "code",
   "execution_count": 4,
   "metadata": {},
   "outputs": [
    {
     "name": "stdout",
     "output_type": "stream",
     "text": [
      "2 1 9 "
     ]
    }
   ],
   "source": [
    "sumlists(one,two)"
   ]
  }
 ],
 "metadata": {
  "kernelspec": {
   "display_name": "Python 3",
   "language": "python",
   "name": "python3"
  },
  "language_info": {
   "codemirror_mode": {
    "name": "ipython",
    "version": 3
   },
   "file_extension": ".py",
   "mimetype": "text/x-python",
   "name": "python",
   "nbconvert_exporter": "python",
   "pygments_lexer": "ipython3",
   "version": "3.7.6"
  }
 },
 "nbformat": 4,
 "nbformat_minor": 4
}
