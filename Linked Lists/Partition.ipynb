{
 "cells": [
  {
   "cell_type": "code",
   "execution_count": 2,
   "metadata": {},
   "outputs": [],
   "source": [
    "class Node:\n",
    "    def __init__(self,val,next=None):\n",
    "        self.val = val\n",
    "        self.next = next"
   ]
  },
  {
   "cell_type": "code",
   "execution_count": 3,
   "metadata": {},
   "outputs": [],
   "source": [
    "def partition(head,x):\n",
    "    ahead,atail = None,None\n",
    "    bhead,btail = None,None\n",
    "    current = head\n",
    "    while current:\n",
    "        if current.val < x:\n",
    "            if ahead:\n",
    "                atail.next,atail = current,current\n",
    "            else:\n",
    "                ahead,atail = current,current\n",
    "        else:\n",
    "            if bhead:\n",
    "                btail.next,btail = current,current\n",
    "            else:\n",
    "                bhead,btail = current,current\n",
    "        current = current.next\n",
    "    atail.next = bhead\n",
    "    return ahead"
   ]
  },
  {
   "cell_type": "code",
   "execution_count": 4,
   "metadata": {},
   "outputs": [],
   "source": [
    "def printl(head):\n",
    "    while head:\n",
    "        print(head.val, end=\" \")\n",
    "        head = head.next"
   ]
  },
  {
   "cell_type": "code",
   "execution_count": 5,
   "metadata": {},
   "outputs": [],
   "source": [
    "head = Node(7)\n",
    "head.next = Node(2)\n",
    "head.next.next = Node(9)\n",
    "head.next.next.next = Node(1)\n",
    "head.next.next.next.next = Node(6)\n",
    "head.next.next.next.next.next = Node(3)\n",
    "head.next.next.next.next.next.next = Node(8)"
   ]
  },
  {
   "cell_type": "code",
   "execution_count": 6,
   "metadata": {},
   "outputs": [
    {
     "data": {
      "text/plain": [
       "<__main__.Node at 0x19b750096c8>"
      ]
     },
     "execution_count": 6,
     "metadata": {},
     "output_type": "execute_result"
    }
   ],
   "source": [
    "partition(head,2)"
   ]
  }
 ],
 "metadata": {
  "kernelspec": {
   "display_name": "Python 3",
   "language": "python",
   "name": "python3"
  },
  "language_info": {
   "codemirror_mode": {
    "name": "ipython",
    "version": 3
   },
   "file_extension": ".py",
   "mimetype": "text/x-python",
   "name": "python",
   "nbconvert_exporter": "python",
   "pygments_lexer": "ipython3",
   "version": "3.7.6"
  }
 },
 "nbformat": 4,
 "nbformat_minor": 4
}
