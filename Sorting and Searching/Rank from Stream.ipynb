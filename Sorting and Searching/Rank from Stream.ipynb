{
 "cells": [
  {
   "cell_type": "code",
   "execution_count": 1,
   "metadata": {},
   "outputs": [],
   "source": [
    "class Node:\n",
    "    def __init__(self,data):\n",
    "        self.data = data\n",
    "        self.left,self.right = None,None\n",
    "        self.leftsize = 0"
   ]
  },
  {
   "cell_type": "code",
   "execution_count": 2,
   "metadata": {},
   "outputs": [],
   "source": [
    "def insert(root,data):\n",
    "    if root is None:\n",
    "        return Node(data)\n",
    "    if data <= root.data:\n",
    "        root.left = insert(root.left,data)\n",
    "        root.leftsize += 1\n",
    "    else:\n",
    "        root.right = insert(root.right,data)\n",
    "    return root\n",
    "def getRank(root,x):\n",
    "    if root.data == x:\n",
    "        return root.leftsize\n",
    "    if x < root.data:\n",
    "        if root.left is None:\n",
    "            return - 1\n",
    "        else:\n",
    "            return getRank(root.left,x)\n",
    "    else:\n",
    "        if root.right is None:\n",
    "            return -1\n",
    "        else:\n",
    "            rightsize = getRank(root.right,x)\n",
    "            return root.leftsize + 1 + rightsize"
   ]
  },
  {
   "cell_type": "code",
   "execution_count": 3,
   "metadata": {},
   "outputs": [],
   "source": [
    "arr = [5, 1, 4, 4, 5, 9, 7, 13, 3]  \n",
    "n = len(arr)  \n",
    "root = None\n",
    "for i in range(n):\n",
    "    root = insert(root,arr[i])"
   ]
  },
  {
   "cell_type": "code",
   "execution_count": 4,
   "metadata": {},
   "outputs": [
    {
     "data": {
      "text/plain": [
       "7"
      ]
     },
     "execution_count": 4,
     "metadata": {},
     "output_type": "execute_result"
    }
   ],
   "source": [
    "getRank(root,9)"
   ]
  }
 ],
 "metadata": {
  "kernelspec": {
   "display_name": "Python 3",
   "language": "python",
   "name": "python3"
  },
  "language_info": {
   "codemirror_mode": {
    "name": "ipython",
    "version": 3
   },
   "file_extension": ".py",
   "mimetype": "text/x-python",
   "name": "python",
   "nbconvert_exporter": "python",
   "pygments_lexer": "ipython3",
   "version": "3.7.6"
  }
 },
 "nbformat": 4,
 "nbformat_minor": 4
}
