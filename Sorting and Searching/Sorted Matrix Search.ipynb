{
 "cells": [
  {
   "cell_type": "code",
   "execution_count": 1,
   "metadata": {},
   "outputs": [],
   "source": [
    "def sorted_matrix(matrix,item):\n",
    "    if len(matrix) == 0:\n",
    "        return None\n",
    "    return search(matrix,item,0,len(matrix[0]),0,len(matrix))\n",
    "def search(matrix,item,x1,x2,y1,y2):\n",
    "    if x1 == x2 or y1 == y2:\n",
    "        return None\n",
    "    row,col = (y1+y2)//2,(x1+x2)//2\n",
    "    mid = matrix[row][col]\n",
    "    if mid == item:\n",
    "        return (row+1,col+1)\n",
    "    if mid > item:\n",
    "        found = search(matrix,item,x1,col,y1,row) or search(matrix,item,col,col+1,y1,row) or search(matrix,item,x1,col,row,row+1)\n",
    "        if found:\n",
    "            return found\n",
    "    else:\n",
    "        found = search(matrix,item,col+1,x2,row+1,y2) or search(matrix,item,col,col+1,row+1,y2) or search(matrix,item,col+1,x2,row,row+1)\n",
    "        if found:\n",
    "            return found\n",
    "    return search(matrix,item,x1,col,row+1,y2) or search(matrix,item,col+1,x2,y1,row)"
   ]
  },
  {
   "cell_type": "code",
   "execution_count": 2,
   "metadata": {},
   "outputs": [
    {
     "data": {
      "text/plain": [
       "(6, 8)"
      ]
     },
     "execution_count": 2,
     "metadata": {},
     "output_type": "execute_result"
    }
   ],
   "source": [
    "sorted_matrix([[1,  2,  3,  4,  5,  6,  7,  8,  9],\n",
    "           [5,  10, 15, 20, 25, 30, 35, 40, 45],\n",
    "           [10, 20, 30, 40, 50, 60, 70, 80, 90],\n",
    "           [13, 23, 33, 43, 53, 63, 73, 83, 93],\n",
    "           [14, 24, 34, 44, 54, 64, 74, 84, 94],\n",
    "           [15, 25, 35, 45, 55, 65, 75, 85, 95],\n",
    "           [16, 26, 36, 46, 56, 66, 77, 88, 99]],85)"
   ]
  }
 ],
 "metadata": {
  "kernelspec": {
   "display_name": "Python 3",
   "language": "python",
   "name": "python3"
  },
  "language_info": {
   "codemirror_mode": {
    "name": "ipython",
    "version": 3
   },
   "file_extension": ".py",
   "mimetype": "text/x-python",
   "name": "python",
   "nbconvert_exporter": "python",
   "pygments_lexer": "ipython3",
   "version": "3.7.6"
  }
 },
 "nbformat": 4,
 "nbformat_minor": 4
}
