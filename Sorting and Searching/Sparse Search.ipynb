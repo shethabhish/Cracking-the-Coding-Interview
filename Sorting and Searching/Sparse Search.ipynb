{
 "cells": [
  {
   "cell_type": "code",
   "execution_count": 1,
   "metadata": {},
   "outputs": [],
   "source": [
    "def sparse_search(arr,word):\n",
    "    start,end = 0,len(arr)-1\n",
    "    left,right = 0,0\n",
    "    while start <= end:\n",
    "        mid = start + (end-start)//2\n",
    "        if arr[mid] == \"\":\n",
    "            left = mid - 1\n",
    "            right = mid + 1\n",
    "            while True:\n",
    "                if left < start and right > end:\n",
    "                    return -1\n",
    "                elif left >= start and arr[left] != \"\":\n",
    "                    mid = left\n",
    "                    break\n",
    "                elif right <= end and arr[right] != \"\":\n",
    "                    mid = right\n",
    "                    break\n",
    "                left -= 1\n",
    "                right += 1\n",
    "        if arr[mid] == word:\n",
    "            return mid\n",
    "        elif word < arr[mid]:\n",
    "            end = mid - 1\n",
    "        elif word > arr[mid]:\n",
    "            start = mid + 1\n",
    "    return -1"
   ]
  },
  {
   "cell_type": "code",
   "execution_count": 2,
   "metadata": {},
   "outputs": [
    {
     "data": {
      "text/plain": [
       "4"
      ]
     },
     "execution_count": 2,
     "metadata": {},
     "output_type": "execute_result"
    }
   ],
   "source": [
    "sparse_search([\"at\",\"\",\"\",\"\",\"ball\",\"\",\"\",\"car\",\"\",\"\",\"dad\",\"\",\"\"],\"ball\")"
   ]
  }
 ],
 "metadata": {
  "kernelspec": {
   "display_name": "Python 3",
   "language": "python",
   "name": "python3"
  },
  "language_info": {
   "codemirror_mode": {
    "name": "ipython",
    "version": 3
   },
   "file_extension": ".py",
   "mimetype": "text/x-python",
   "name": "python",
   "nbconvert_exporter": "python",
   "pygments_lexer": "ipython3",
   "version": "3.7.6"
  }
 },
 "nbformat": 4,
 "nbformat_minor": 4
}
