{
 "cells": [
  {
   "cell_type": "code",
   "execution_count": 1,
   "metadata": {},
   "outputs": [],
   "source": [
    "def sorted_merge(arr1,m,arr2,n):\n",
    "    p1,p2 = m-1,n-1\n",
    "    insertind = len(arr1)-1\n",
    "    while p1 >= 0 and p2 >= 0:\n",
    "        if p1 >= 0 and (p2 < 0 or arr1[p1] >= arr2[p2]):\n",
    "            arr1[insertind] = arr1[p1]\n",
    "            insertind -= 1\n",
    "            p1 -= 1\n",
    "        else:\n",
    "            arr1[insertind] = arr2[p2]\n",
    "            insertind -= 1\n",
    "            p2 -= 1\n",
    "    return arr1"
   ]
  },
  {
   "cell_type": "code",
   "execution_count": 2,
   "metadata": {},
   "outputs": [
    {
     "data": {
      "text/plain": [
       "[1, 2, 2, 3, 5, 6]"
      ]
     },
     "execution_count": 2,
     "metadata": {},
     "output_type": "execute_result"
    }
   ],
   "source": [
    "sorted_merge([1,2,3,0,0,0],3,[2,5,6],3)"
   ]
  }
 ],
 "metadata": {
  "kernelspec": {
   "display_name": "Python 3",
   "language": "python",
   "name": "python3"
  },
  "language_info": {
   "codemirror_mode": {
    "name": "ipython",
    "version": 3
   },
   "file_extension": ".py",
   "mimetype": "text/x-python",
   "name": "python",
   "nbconvert_exporter": "python",
   "pygments_lexer": "ipython3",
   "version": "3.7.6"
  }
 },
 "nbformat": 4,
 "nbformat_minor": 4
}
