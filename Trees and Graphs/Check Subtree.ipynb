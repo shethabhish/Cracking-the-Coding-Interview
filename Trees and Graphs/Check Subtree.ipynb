{
 "cells": [
  {
   "cell_type": "code",
   "execution_count": 1,
   "metadata": {},
   "outputs": [],
   "source": [
    "class Node:\n",
    "    def __init__(self,val):\n",
    "        self.val = val\n",
    "        self.left = None\n",
    "        self.right = None"
   ]
  },
  {
   "cell_type": "code",
   "execution_count": 2,
   "metadata": {},
   "outputs": [],
   "source": [
    "from collections import deque\n",
    "def subtree(t1,t2):\n",
    "    tr1,tr2 = set(),set()\n",
    "    queue = deque()\n",
    "    traverse(queue,t1,tr1)\n",
    "    queue = deque()\n",
    "    traverse(queue,t2,tr2)\n",
    "    return tr2.issubset(tr1)\n",
    "def traverse(queue,tree,result):\n",
    "    if tree is None:\n",
    "        return result\n",
    "    queue.append(tree)\n",
    "    while queue:\n",
    "        levelsize = len(queue)\n",
    "        for _ in range(levelsize):\n",
    "            node = queue.pop()\n",
    "            result.add(node.val)\n",
    "            if node.left:\n",
    "                queue.append(node.left)\n",
    "            if node.right:\n",
    "                queue.append(node.right)"
   ]
  },
  {
   "cell_type": "code",
   "execution_count": 3,
   "metadata": {},
   "outputs": [
    {
     "data": {
      "text/plain": [
       "True"
      ]
     },
     "execution_count": 3,
     "metadata": {},
     "output_type": "execute_result"
    }
   ],
   "source": [
    "t1 = Node(5)\n",
    "t1.left = Node(3)\n",
    "t1.right = Node(7)\n",
    "t1.left.left = Node(2)\n",
    "t1.left.right = Node(4)\n",
    "t1.right.left = Node(6)\n",
    "t1.right.right = Node(8)\n",
    "\n",
    "t2 = Node(7)\n",
    "t2.left = Node(6)\n",
    "t2.right = Node(8)\n",
    "subtree(t1,t2)"
   ]
  }
 ],
 "metadata": {
  "kernelspec": {
   "display_name": "Python 3",
   "language": "python",
   "name": "python3"
  },
  "language_info": {
   "codemirror_mode": {
    "name": "ipython",
    "version": 3
   },
   "file_extension": ".py",
   "mimetype": "text/x-python",
   "name": "python",
   "nbconvert_exporter": "python",
   "pygments_lexer": "ipython3",
   "version": "3.7.6"
  }
 },
 "nbformat": 4,
 "nbformat_minor": 4
}
