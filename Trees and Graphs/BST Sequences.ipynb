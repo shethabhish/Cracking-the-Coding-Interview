{
 "cells": [
  {
   "cell_type": "code",
   "execution_count": 1,
   "metadata": {},
   "outputs": [],
   "source": [
    "class Node():\n",
    "    def __init__(self, data=None, left=None, right=None):\n",
    "        self.data, self.left, self.right = data, left, right"
   ]
  },
  {
   "cell_type": "code",
   "execution_count": 2,
   "metadata": {},
   "outputs": [],
   "source": [
    "def sequence(root):\n",
    "    return part([],[root])\n",
    "def part(partial,subtrees):\n",
    "    if not len(subtrees):\n",
    "        return [partial]\n",
    "    sequences = []\n",
    "    for index,subtree in enumerate(subtrees):\n",
    "        next_partial = partial + [subtree.data]\n",
    "        next_subtrees = subtrees[:index] + subtrees[index+1:]\n",
    "        if subtree.left:\n",
    "            next_subtrees.append(subtree.left)\n",
    "        if subtree.right:\n",
    "            next_subtrees.append(subtree.right)\n",
    "        sequences += part(next_partial,next_subtrees)\n",
    "    return sequences"
   ]
  },
  {
   "cell_type": "code",
   "execution_count": 3,
   "metadata": {},
   "outputs": [
    {
     "data": {
      "text/plain": [
       "[[7, 4, 9, 5], [7, 4, 5, 9], [7, 9, 4, 5]]"
      ]
     },
     "execution_count": 3,
     "metadata": {},
     "output_type": "execute_result"
    }
   ],
   "source": [
    "sequence(Node(7,Node(4,Node(5)),Node(9)))"
   ]
  }
 ],
 "metadata": {
  "kernelspec": {
   "display_name": "Python 3",
   "language": "python",
   "name": "python3"
  },
  "language_info": {
   "codemirror_mode": {
    "name": "ipython",
    "version": 3
   },
   "file_extension": ".py",
   "mimetype": "text/x-python",
   "name": "python",
   "nbconvert_exporter": "python",
   "pygments_lexer": "ipython3",
   "version": "3.7.6"
  }
 },
 "nbformat": 4,
 "nbformat_minor": 4
}
