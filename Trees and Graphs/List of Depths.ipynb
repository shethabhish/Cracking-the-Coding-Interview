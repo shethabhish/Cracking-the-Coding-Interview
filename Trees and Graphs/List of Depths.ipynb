{
 "cells": [
  {
   "cell_type": "code",
   "execution_count": 1,
   "metadata": {},
   "outputs": [],
   "source": [
    "class Tree:\n",
    "    def __init__(self,val):\n",
    "        self.val = val\n",
    "        self.left = None\n",
    "        self.right = None"
   ]
  },
  {
   "cell_type": "code",
   "execution_count": 2,
   "metadata": {},
   "outputs": [],
   "source": [
    "class Node:\n",
    "    def __init__(self,val):\n",
    "        self.val = val\n",
    "        self.next = None"
   ]
  },
  {
   "cell_type": "code",
   "execution_count": 3,
   "metadata": {},
   "outputs": [],
   "source": [
    "from collections import deque\n",
    "def list_of_depths(root):\n",
    "    if root is None:\n",
    "        return None\n",
    "    lists = []\n",
    "    queue = deque()\n",
    "    queue.append(root)\n",
    "    while queue:\n",
    "        levelsize = len(queue)\n",
    "        currentlevel = []\n",
    "        for i in range(levelsize):\n",
    "            node = queue.popleft()\n",
    "            currentlevel.append(Node(node.val))\n",
    "            if node.left:\n",
    "                queue.append(node.left)\n",
    "            if node.right:\n",
    "                queue.append(node.right)\n",
    "        for i in range(len(currentlevel)-1):\n",
    "            currentlevel[i].next = currentlevel[i+1]\n",
    "        lists.append(currentlevel[0])\n",
    "    return lists"
   ]
  },
  {
   "cell_type": "code",
   "execution_count": 4,
   "metadata": {},
   "outputs": [],
   "source": [
    "root = Tree(12)\n",
    "root.left = Tree(7)\n",
    "root.right = Tree(1)\n",
    "root.left.left = Tree(9)\n",
    "root.right.left = Tree(10)\n",
    "root.right.right = Tree(5)\n",
    "root.left.left.left = Tree(3)\n",
    "arr = list_of_depths(root)"
   ]
  },
  {
   "cell_type": "code",
   "execution_count": 5,
   "metadata": {},
   "outputs": [],
   "source": [
    "def printl(arr):\n",
    "    for ar in arr:\n",
    "        while ar:\n",
    "            print(ar.val,end = \" \")\n",
    "            ar = ar.next\n",
    "        print(\"\\n\")"
   ]
  },
  {
   "cell_type": "code",
   "execution_count": 6,
   "metadata": {},
   "outputs": [
    {
     "name": "stdout",
     "output_type": "stream",
     "text": [
      "12 \n",
      "\n",
      "7 1 \n",
      "\n",
      "9 10 5 \n",
      "\n",
      "3 \n",
      "\n"
     ]
    }
   ],
   "source": [
    "printl(arr)"
   ]
  }
 ],
 "metadata": {
  "kernelspec": {
   "display_name": "Python 3",
   "language": "python",
   "name": "python3"
  },
  "language_info": {
   "codemirror_mode": {
    "name": "ipython",
    "version": 3
   },
   "file_extension": ".py",
   "mimetype": "text/x-python",
   "name": "python",
   "nbconvert_exporter": "python",
   "pygments_lexer": "ipython3",
   "version": "3.7.6"
  }
 },
 "nbformat": 4,
 "nbformat_minor": 4
}
