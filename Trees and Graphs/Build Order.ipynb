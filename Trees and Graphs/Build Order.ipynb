{
 "cells": [
  {
   "cell_type": "code",
   "execution_count": 1,
   "metadata": {},
   "outputs": [],
   "source": [
    "from collections import deque\n",
    "def topological_sort(vertices,edges):\n",
    "    sortedOrder = []\n",
    "    if len(vertices) <= 0:\n",
    "        return sortedOrder\n",
    "    indegree = {i:0 for i in vertices}\n",
    "    graph = {i:[] for i in vertices}\n",
    "    for edge in edges:\n",
    "        parent,child = edge[0],edge[1]\n",
    "        graph[parent].append(child)\n",
    "        indegree[child] += 1\n",
    "    sources = deque()\n",
    "    for key in indegree:\n",
    "        if indegree[key] == 0:\n",
    "            sources.append(key)\n",
    "    while sources:\n",
    "        vertex = sources.popleft()\n",
    "        sortedOrder.append(vertex)\n",
    "        for child in graph[vertex]:\n",
    "            indegree[child] -= 1\n",
    "            if indegree[child] == 0:\n",
    "                sources.append(child)\n",
    "    return sortedOrder"
   ]
  },
  {
   "cell_type": "code",
   "execution_count": 2,
   "metadata": {},
   "outputs": [
    {
     "data": {
      "text/plain": [
       "['E', 'G', 'A', 'D', 'B', 'C', 'F']"
      ]
     },
     "execution_count": 2,
     "metadata": {},
     "output_type": "execute_result"
    }
   ],
   "source": [
    " topological_sort([\"A\", \"B\", \"C\", \"D\", \"E\", \"F\", \"G\"],[(\"A\", \"B\"), (\"A\", \"C\"), (\"E\", \"A\"), (\"E\", \"B\"), (\"A\", \"F\"),\n",
    "        (\"B\", \"F\"), (\"C\", \"F\"), (\"G\", \"D\")])"
   ]
  }
 ],
 "metadata": {
  "kernelspec": {
   "display_name": "Python 3",
   "language": "python",
   "name": "python3"
  },
  "language_info": {
   "codemirror_mode": {
    "name": "ipython",
    "version": 3
   },
   "file_extension": ".py",
   "mimetype": "text/x-python",
   "name": "python",
   "nbconvert_exporter": "python",
   "pygments_lexer": "ipython3",
   "version": "3.7.6"
  }
 },
 "nbformat": 4,
 "nbformat_minor": 4
}
