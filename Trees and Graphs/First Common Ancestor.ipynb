{
 "cells": [
  {
   "cell_type": "code",
   "execution_count": 1,
   "metadata": {},
   "outputs": [],
   "source": [
    "def first_common_ancestor(node1, node2):\n",
    "    search1, search2 = node1, node2\n",
    "    ancestors1, ancestors2 = {}, {}\n",
    "    while search1 or search2:\n",
    "        if search1:\n",
    "            if search1 in ancestors2:\n",
    "                return search1.data\n",
    "            ancestors1[search1] = True\n",
    "            search1 = search1.parent\n",
    "        if search2:\n",
    "            if search2 in ancestors1:\n",
    "                return search2.data\n",
    "            ancestors2[search2] = True\n",
    "            search2 = search2.parent\n",
    "    return None"
   ]
  },
  {
   "cell_type": "code",
   "execution_count": 2,
   "metadata": {},
   "outputs": [],
   "source": [
    "class Node():\n",
    "    def __init__(self, data=None, left=None, right=None):\n",
    "        self.data, self.left, self.right = data, left, right\n",
    "        self.parent = None\n",
    "        if self.left:\n",
    "            self.left.parent = self\n",
    "        if self.right:\n",
    "            self.right.parent = self"
   ]
  },
  {
   "cell_type": "code",
   "execution_count": 3,
   "metadata": {},
   "outputs": [
    {
     "data": {
      "text/plain": [
       "33"
      ]
     },
     "execution_count": 3,
     "metadata": {},
     "output_type": "execute_result"
    }
   ],
   "source": [
    "node1 = Node(11, Node(55), Node(77, Node(44)))\n",
    "node2 = Node(22, Node(99))\n",
    "first_common_ancestor(node1,node2)\n",
    "node3 = Node(33, node1, Node(88, Node(123, None, node2)))\n",
    "node4 = Node(44, node3, Node(66))\n",
    "first_common_ancestor(node1,node2)"
   ]
  }
 ],
 "metadata": {
  "kernelspec": {
   "display_name": "Python 3",
   "language": "python",
   "name": "python3"
  },
  "language_info": {
   "codemirror_mode": {
    "name": "ipython",
    "version": 3
   },
   "file_extension": ".py",
   "mimetype": "text/x-python",
   "name": "python",
   "nbconvert_exporter": "python",
   "pygments_lexer": "ipython3",
   "version": "3.7.6"
  }
 },
 "nbformat": 4,
 "nbformat_minor": 4
}
