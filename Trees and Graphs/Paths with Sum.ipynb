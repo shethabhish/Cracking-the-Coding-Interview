{
 "cells": [
  {
   "cell_type": "code",
   "execution_count": 1,
   "metadata": {},
   "outputs": [],
   "source": [
    "class Tree:\n",
    "    def __init__(self, val, left = None, right = None):\n",
    "        self.val = val\n",
    "        self.right = right\n",
    "        self.left = left"
   ]
  },
  {
   "cell_type": "code",
   "execution_count": 2,
   "metadata": {},
   "outputs": [],
   "source": [
    "def count_paths(root,s):\n",
    "    return paths(root,s,[])\n",
    "def paths(current,s,path):\n",
    "    if current is None:\n",
    "        return 0\n",
    "    path.append(current.val)\n",
    "    count,psum = 0,0\n",
    "    for i in range(len(path)-1,-1,-1):\n",
    "        psum += path[i]\n",
    "        if psum == s:\n",
    "            count += 1\n",
    "    count += paths(current.left,s,path)\n",
    "    count += paths(current.right,s,path)\n",
    "    del path[-1]\n",
    "    return count"
   ]
  },
  {
   "cell_type": "code",
   "execution_count": 3,
   "metadata": {},
   "outputs": [],
   "source": [
    "root = Tree(12)\n",
    "root.left = Tree(7)\n",
    "root.right = Tree(1)\n",
    "root.left.left = Tree(4)\n",
    "root.right.left = Tree(10)\n",
    "root.right.right = Tree(5)"
   ]
  },
  {
   "cell_type": "code",
   "execution_count": 4,
   "metadata": {},
   "outputs": [
    {
     "data": {
      "text/plain": [
       "2"
      ]
     },
     "execution_count": 4,
     "metadata": {},
     "output_type": "execute_result"
    }
   ],
   "source": [
    "count_paths(root,11)"
   ]
  }
 ],
 "metadata": {
  "kernelspec": {
   "display_name": "Python 3",
   "language": "python",
   "name": "python3"
  },
  "language_info": {
   "codemirror_mode": {
    "name": "ipython",
    "version": 3
   },
   "file_extension": ".py",
   "mimetype": "text/x-python",
   "name": "python",
   "nbconvert_exporter": "python",
   "pygments_lexer": "ipython3",
   "version": "3.7.6"
  }
 },
 "nbformat": 4,
 "nbformat_minor": 4
}
