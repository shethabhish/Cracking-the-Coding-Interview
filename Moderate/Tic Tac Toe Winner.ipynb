{
 "cells": [
  {
   "cell_type": "code",
   "execution_count": 1,
   "metadata": {},
   "outputs": [],
   "source": [
    "def winner(tictac):\n",
    "    if len(tictac[0]) > 3 or len(tictac) > 3:\n",
    "        return None\n",
    "    x,o = 0,0\n",
    "    for i in range(3):\n",
    "        if tictac[i][i] == \"X\":\n",
    "            x += 1\n",
    "        else:\n",
    "            o += 1\n",
    "    i = 0\n",
    "    for j in range(3):\n",
    "        if tictac[i][j] == \"X\" and tictac[i+1][j] == \"X\" and tictac[i+2][j] == \"X\":\n",
    "            return \"X\"\n",
    "        if tictac[i][j] == \"O\" and tictac[i+1][j] == \"O\" and tictac[i+2][j] == \"O\":\n",
    "            return \"O\"\n",
    "    for tic in tictac:\n",
    "        xc,oc = 0,0\n",
    "        for i in tic:\n",
    "            if i == \"X\":\n",
    "                xc += 1\n",
    "            else:\n",
    "                oc += 1\n",
    "        if xc == 3 or x == 3:\n",
    "            return \"X\"\n",
    "        if oc == 3 or o == 3:\n",
    "            return \"O\""
   ]
  },
  {
   "cell_type": "code",
   "execution_count": 2,
   "metadata": {},
   "outputs": [
    {
     "data": {
      "text/plain": [
       "'O'"
      ]
     },
     "execution_count": 2,
     "metadata": {},
     "output_type": "execute_result"
    }
   ],
   "source": [
    "winner([[\"X\",\"O\",\"X\"],[\"X\",\"O\",\"O\"],[\"O\",\"O\",\"X\"]])"
   ]
  }
 ],
 "metadata": {
  "kernelspec": {
   "display_name": "Python 3",
   "language": "python",
   "name": "python3"
  },
  "language_info": {
   "codemirror_mode": {
    "name": "ipython",
    "version": 3
   },
   "file_extension": ".py",
   "mimetype": "text/x-python",
   "name": "python",
   "nbconvert_exporter": "python",
   "pygments_lexer": "ipython3",
   "version": "3.7.6"
  }
 },
 "nbformat": 4,
 "nbformat_minor": 4
}
