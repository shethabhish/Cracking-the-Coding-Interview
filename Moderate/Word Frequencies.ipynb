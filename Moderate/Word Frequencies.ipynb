{
 "cells": [
  {
   "cell_type": "code",
   "execution_count": 1,
   "metadata": {},
   "outputs": [],
   "source": [
    "def word_freq(sentence):\n",
    "    sentence = list(sentence.split())\n",
    "    freq = {}\n",
    "    for word in sentence:\n",
    "        if word not in freq:\n",
    "            freq[word] = 0\n",
    "        freq[word] += 1\n",
    "    return freq"
   ]
  },
  {
   "cell_type": "code",
   "execution_count": 2,
   "metadata": {},
   "outputs": [
    {
     "data": {
      "text/plain": [
       "{'My': 1,\n",
       " 'name': 1,\n",
       " 'is': 1,\n",
       " 'barry': 1,\n",
       " 'allen': 1,\n",
       " 'and': 1,\n",
       " \"I'm\": 1,\n",
       " 'the': 1,\n",
       " 'fastest': 1,\n",
       " 'man': 1,\n",
       " 'alive': 1}"
      ]
     },
     "execution_count": 2,
     "metadata": {},
     "output_type": "execute_result"
    }
   ],
   "source": [
    "word_freq(\"My name is barry allen and I'm the fastest man alive\")"
   ]
  }
 ],
 "metadata": {
  "kernelspec": {
   "display_name": "Python 3",
   "language": "python",
   "name": "python3"
  },
  "language_info": {
   "codemirror_mode": {
    "name": "ipython",
    "version": 3
   },
   "file_extension": ".py",
   "mimetype": "text/x-python",
   "name": "python",
   "nbconvert_exporter": "python",
   "pygments_lexer": "ipython3",
   "version": "3.7.6"
  }
 },
 "nbformat": 4,
 "nbformat_minor": 4
}
