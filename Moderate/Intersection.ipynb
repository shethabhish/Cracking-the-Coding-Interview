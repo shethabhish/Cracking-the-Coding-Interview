{
 "cells": [
  {
   "cell_type": "code",
   "execution_count": 1,
   "metadata": {},
   "outputs": [],
   "source": [
    "def intersection(line1,line2):\n",
    "    xdiff = (line1[0][0] - line1[1][0],line2[0][0] - line2[1][0])\n",
    "    ydiff = (line1[0][1] - line1[1][1],line2[0][1] -line2[1][1])\n",
    "    def det(a,b):\n",
    "        return a[0]*b[1] - a[1]*b[0]\n",
    "    div = det(xdiff,ydiff)\n",
    "    if div == 0:\n",
    "        return \"Parallel Lines\"\n",
    "    d = (det(*line1),det(*line2))\n",
    "    x = det(d,xdiff)/div\n",
    "    y = det(d,ydiff)/div\n",
    "    return x,y"
   ]
  },
  {
   "cell_type": "code",
   "execution_count": 2,
   "metadata": {},
   "outputs": [
    {
     "data": {
      "text/plain": [
       "(2.0, 3.0)"
      ]
     },
     "execution_count": 2,
     "metadata": {},
     "output_type": "execute_result"
    }
   ],
   "source": [
    "intersection([[0,1],[2,3]],[[2,3],[0,4]])"
   ]
  }
 ],
 "metadata": {
  "kernelspec": {
   "display_name": "Python 3",
   "language": "python",
   "name": "python3"
  },
  "language_info": {
   "codemirror_mode": {
    "name": "ipython",
    "version": 3
   },
   "file_extension": ".py",
   "mimetype": "text/x-python",
   "name": "python",
   "nbconvert_exporter": "python",
   "pygments_lexer": "ipython3",
   "version": "3.7.6"
  }
 },
 "nbformat": 4,
 "nbformat_minor": 4
}
