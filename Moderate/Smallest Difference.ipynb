{
 "cells": [
  {
   "cell_type": "code",
   "execution_count": 1,
   "metadata": {},
   "outputs": [],
   "source": [
    "import math\n",
    "def smallest(arr1,arr2):\n",
    "    minn = math.inf\n",
    "    for i in range(len(arr1)):\n",
    "        for j in range(len(arr2)):\n",
    "            if abs(arr1[i] - arr2[j]) < minn:\n",
    "                minn = abs(arr1[i] - arr2[j])\n",
    "    return minn"
   ]
  },
  {
   "cell_type": "code",
   "execution_count": 2,
   "metadata": {},
   "outputs": [
    {
     "data": {
      "text/plain": [
       "3"
      ]
     },
     "execution_count": 2,
     "metadata": {},
     "output_type": "execute_result"
    }
   ],
   "source": [
    "smallest([1,3,15,11,2],[23,127,235,19,8])"
   ]
  },
  {
   "cell_type": "code",
   "execution_count": 3,
   "metadata": {},
   "outputs": [],
   "source": [
    "import math\n",
    "def smallest(arr1,arr2):\n",
    "    arr1.sort()\n",
    "    arr2.sort()\n",
    "    minn = math.inf\n",
    "    i,j = 0,0\n",
    "    while i < len(arr1) and j <len(arr2):\n",
    "        if abs(arr1[i] - arr2[j]) < minn:\n",
    "            minn = abs(arr1[i] - arr2[j])\n",
    "        if arr1[i] < arr2[j]:\n",
    "            i += 1\n",
    "        else:\n",
    "            j += 1\n",
    "    return minn"
   ]
  },
  {
   "cell_type": "code",
   "execution_count": 4,
   "metadata": {},
   "outputs": [
    {
     "data": {
      "text/plain": [
       "3"
      ]
     },
     "execution_count": 4,
     "metadata": {},
     "output_type": "execute_result"
    }
   ],
   "source": [
    "smallest([1,3,15,11,2],[23,127,235,19,8])"
   ]
  }
 ],
 "metadata": {
  "kernelspec": {
   "display_name": "Python 3",
   "language": "python",
   "name": "python3"
  },
  "language_info": {
   "codemirror_mode": {
    "name": "ipython",
    "version": 3
   },
   "file_extension": ".py",
   "mimetype": "text/x-python",
   "name": "python",
   "nbconvert_exporter": "python",
   "pygments_lexer": "ipython3",
   "version": "3.7.6"
  }
 },
 "nbformat": 4,
 "nbformat_minor": 4
}
