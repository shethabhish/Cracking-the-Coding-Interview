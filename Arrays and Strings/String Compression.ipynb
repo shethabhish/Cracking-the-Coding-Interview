{
 "cells": [
  {
   "cell_type": "code",
   "execution_count": 1,
   "metadata": {},
   "outputs": [],
   "source": [
    "def stri(s):\n",
    "    st = ''\n",
    "    count = 0\n",
    "    temp = 0\n",
    "    for i in range(len(s)-1):\n",
    "        count += 1\n",
    "        if s[i] != s[i+1]:\n",
    "            st += s[i]\n",
    "            st += str(count)\n",
    "            count = 0\n",
    "    for i in range(len(s),-1,1):\n",
    "        if s[i] != s[i-1]:\n",
    "            break\n",
    "        count += 1\n",
    "    st += s[-1]\n",
    "    st += str(count+1)\n",
    "    return st if len(st) < len(s) else s"
   ]
  },
  {
   "cell_type": "code",
   "execution_count": 2,
   "metadata": {},
   "outputs": [
    {
     "data": {
      "text/plain": [
       "'a2b1c5a3'"
      ]
     },
     "execution_count": 2,
     "metadata": {},
     "output_type": "execute_result"
    }
   ],
   "source": [
    "stri('aabcccccaaa')"
   ]
  }
 ],
 "metadata": {
  "kernelspec": {
   "display_name": "Python 3",
   "language": "python",
   "name": "python3"
  },
  "language_info": {
   "codemirror_mode": {
    "name": "ipython",
    "version": 3
   },
   "file_extension": ".py",
   "mimetype": "text/x-python",
   "name": "python",
   "nbconvert_exporter": "python",
   "pygments_lexer": "ipython3",
   "version": "3.7.6"
  }
 },
 "nbformat": 4,
 "nbformat_minor": 4
}
