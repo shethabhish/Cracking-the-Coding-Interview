{
 "cells": [
  {
   "cell_type": "code",
   "execution_count": 1,
   "metadata": {},
   "outputs": [],
   "source": [
    "def oneway(s1,s2):\n",
    "    if len(s1) == len(s2):\n",
    "        return replace(s1,s2)\n",
    "    if len(s1) + 1 == len(s2):\n",
    "        return edit(s1,s2)\n",
    "    if len(s1) - 1 == len(s2):\n",
    "        return edit(s2,s1)\n",
    "\n",
    "def replace(s1,s2):\n",
    "    edit = False\n",
    "    for i,j in zip(s1,s2):\n",
    "        if s1 != s2:\n",
    "            if edit:\n",
    "                return False\n",
    "            edit = True\n",
    "    return True\n",
    "\n",
    "def edit(s1,s2):\n",
    "    edit = False\n",
    "    i,j = 0,0\n",
    "    while i < len(s1) and j < len(s2):\n",
    "        if s1[i] != s2[j]:\n",
    "            if edit:\n",
    "                return False\n",
    "            edit = True\n",
    "            j += 1\n",
    "        else:\n",
    "            i += 1\n",
    "            j += 1\n",
    "    return True"
   ]
  },
  {
   "cell_type": "code",
   "execution_count": 2,
   "metadata": {},
   "outputs": [
    {
     "data": {
      "text/plain": [
       "True"
      ]
     },
     "execution_count": 2,
     "metadata": {},
     "output_type": "execute_result"
    }
   ],
   "source": [
    "oneway(\"pale\",\"ple\")"
   ]
  }
 ],
 "metadata": {
  "kernelspec": {
   "display_name": "Python 3",
   "language": "python",
   "name": "python3"
  },
  "language_info": {
   "codemirror_mode": {
    "name": "ipython",
    "version": 3
   },
   "file_extension": ".py",
   "mimetype": "text/x-python",
   "name": "python",
   "nbconvert_exporter": "python",
   "pygments_lexer": "ipython3",
   "version": "3.7.6"
  }
 },
 "nbformat": 4,
 "nbformat_minor": 4
}
