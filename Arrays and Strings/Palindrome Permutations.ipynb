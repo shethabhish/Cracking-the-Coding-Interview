{
 "cells": [
  {
   "cell_type": "code",
   "execution_count": 1,
   "metadata": {},
   "outputs": [],
   "source": [
    "def palperm(s):\n",
    "    s = s.lower()\n",
    "    s = s.replace(\" \",\"\")\n",
    "    chars = {}\n",
    "    for i in s:\n",
    "        if i not in chars:\n",
    "            chars[i] = 0\n",
    "        chars[i] += 1\n",
    "    st = [0 for i in range(len(s))]\n",
    "    first,last = 0,len(s)-1\n",
    "    for i in chars:\n",
    "        mid = first + (last-first)//2\n",
    "        while chars[i] > 1:\n",
    "            st[first] = i\n",
    "            st[last] = i\n",
    "            chars[i] -= 2\n",
    "            first += 1\n",
    "            last -= 1\n",
    "        if chars[i] == 1:\n",
    "            st[mid] = i\n",
    "            chars[i] -= 1\n",
    "    if 0 in st:\n",
    "        return False\n",
    "    return st == st[::-1]"
   ]
  },
  {
   "cell_type": "code",
   "execution_count": 2,
   "metadata": {},
   "outputs": [
    {
     "data": {
      "text/plain": [
       "True"
      ]
     },
     "execution_count": 2,
     "metadata": {},
     "output_type": "execute_result"
    }
   ],
   "source": [
    "palperm('jhsabckuj ahjsbckj')"
   ]
  },
  {
   "cell_type": "code",
   "execution_count": null,
   "metadata": {},
   "outputs": [],
   "source": []
  }
 ],
 "metadata": {
  "kernelspec": {
   "display_name": "Python 3",
   "language": "python",
   "name": "python3"
  },
  "language_info": {
   "codemirror_mode": {
    "name": "ipython",
    "version": 3
   },
   "file_extension": ".py",
   "mimetype": "text/x-python",
   "name": "python",
   "nbconvert_exporter": "python",
   "pygments_lexer": "ipython3",
   "version": "3.7.6"
  }
 },
 "nbformat": 4,
 "nbformat_minor": 4
}
