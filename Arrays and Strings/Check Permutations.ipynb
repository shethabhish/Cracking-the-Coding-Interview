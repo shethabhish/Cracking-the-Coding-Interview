{
 "cells": [
  {
   "cell_type": "code",
   "execution_count": 1,
   "metadata": {},
   "outputs": [],
   "source": [
    "def check(s1,s2):\n",
    "    if len(s1) != len(s2):\n",
    "        return False\n",
    "    chars = {}\n",
    "    for i in s1:\n",
    "        if i not in chars:\n",
    "            chars[i] = 0\n",
    "        chars[i] += 1\n",
    "    for i in s2:\n",
    "        if i not in chars:\n",
    "            return False\n",
    "        else:\n",
    "            chars[i] -= 1\n",
    "            if chars[i] == 0:\n",
    "                del chars[i]\n",
    "    return len(chars) == 0"
   ]
  },
  {
   "cell_type": "code",
   "execution_count": 2,
   "metadata": {},
   "outputs": [
    {
     "data": {
      "text/plain": [
       "True"
      ]
     },
     "execution_count": 2,
     "metadata": {},
     "output_type": "execute_result"
    }
   ],
   "source": [
    "check(\"abcdefg\",\"cbadgef\")"
   ]
  },
  {
   "cell_type": "code",
   "execution_count": 3,
   "metadata": {},
   "outputs": [],
   "source": [
    "from collections import Counter\n",
    "def check(s1,s2):\n",
    "    if len(s1) != len(s2):\n",
    "        return False\n",
    "    chars = Counter()\n",
    "    for i in s1:\n",
    "        chars[i] += 1\n",
    "    for i in s2:\n",
    "        if chars[i] == 0:\n",
    "            return False\n",
    "        chars[i] -= 1\n",
    "    return True"
   ]
  },
  {
   "cell_type": "code",
   "execution_count": 4,
   "metadata": {},
   "outputs": [
    {
     "data": {
      "text/plain": [
       "True"
      ]
     },
     "execution_count": 4,
     "metadata": {},
     "output_type": "execute_result"
    }
   ],
   "source": [
    "check(\"abcdefg\",\"cbadgef\")"
   ]
  }
 ],
 "metadata": {
  "kernelspec": {
   "display_name": "Python 3",
   "language": "python",
   "name": "python3"
  },
  "language_info": {
   "codemirror_mode": {
    "name": "ipython",
    "version": 3
   },
   "file_extension": ".py",
   "mimetype": "text/x-python",
   "name": "python",
   "nbconvert_exporter": "python",
   "pygments_lexer": "ipython3",
   "version": "3.7.6"
  }
 },
 "nbformat": 4,
 "nbformat_minor": 4
}
