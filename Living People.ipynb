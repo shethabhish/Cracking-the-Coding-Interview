{
 "cells": [
  {
   "cell_type": "code",
   "execution_count": 1,
   "metadata": {},
   "outputs": [],
   "source": [
    "def living(alive):\n",
    "    years = {i:0 for i in range(1900,2001)}\n",
    "    for arr in alive:\n",
    "        for i in range(arr[0],arr[1]+1):\n",
    "            years[i] += 1\n",
    "    return max(years,key=years.get)"
   ]
  },
  {
   "cell_type": "code",
   "execution_count": 2,
   "metadata": {},
   "outputs": [
    {
     "data": {
      "text/plain": [
       "1933"
      ]
     },
     "execution_count": 2,
     "metadata": {},
     "output_type": "execute_result"
    }
   ],
   "source": [
    "living([[1907,1942],[1909,1982],[1933,1967],[1912,1954]])"
   ]
  },
  {
   "cell_type": "code",
   "execution_count": 3,
   "metadata": {},
   "outputs": [],
   "source": [
    "def livi(people):\n",
    "    if len(people) == 0:\n",
    "        return None\n",
    "    change = [0]*102\n",
    "    alive,maxalive,maxyear = 0,0,0\n",
    "    for pep in people:\n",
    "        change[pep[0] - 1900] += 1\n",
    "        if pep[1]:\n",
    "            change[pep[1] - 1899] -= 1\n",
    "    for year in range(0,101):\n",
    "        alive += change[year]\n",
    "        if alive > maxalive:\n",
    "            maxalive = alive\n",
    "            maxyear = year\n",
    "    return maxyear + 1900"
   ]
  },
  {
   "cell_type": "code",
   "execution_count": 4,
   "metadata": {},
   "outputs": [
    {
     "data": {
      "text/plain": [
       "1933"
      ]
     },
     "execution_count": 4,
     "metadata": {},
     "output_type": "execute_result"
    }
   ],
   "source": [
    "livi([[1907,1942],[1909,1982],[1933,1967],[1912,1954]])"
   ]
  }
 ],
 "metadata": {
  "kernelspec": {
   "display_name": "Python 3",
   "language": "python",
   "name": "python3"
  },
  "language_info": {
   "codemirror_mode": {
    "name": "ipython",
    "version": 3
   },
   "file_extension": ".py",
   "mimetype": "text/x-python",
   "name": "python",
   "nbconvert_exporter": "python",
   "pygments_lexer": "ipython3",
   "version": "3.7.6"
  }
 },
 "nbformat": 4,
 "nbformat_minor": 4
}
